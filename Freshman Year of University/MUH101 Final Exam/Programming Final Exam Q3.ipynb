{
 "cells": [
  {
   "cell_type": "code",
   "execution_count": 3,
   "metadata": {},
   "outputs": [],
   "source": [
    "def ozan_tufan(*args):\n",
    "    list1 = []\n",
    "    for i in args:\n",
    "        list1.append(i)\n",
    "    list2 = [\"1. Gün\",\"2. Gün\", \"3. Gün\"]\n",
    "    \n",
    "    for i,j in zip(list2,list1):\n",
    "        print(i,j)"
   ]
  },
  {
   "cell_type": "code",
   "execution_count": 4,
   "metadata": {},
   "outputs": [
    {
     "name": "stdout",
     "output_type": "stream",
     "text": [
      "1. Gün 11\n",
      "2. Gün 23\n",
      "3. Gün 26\n"
     ]
    }
   ],
   "source": [
    "ozan_tufan(11,23,26)"
   ]
  },
  {
   "cell_type": "code",
   "execution_count": 1,
   "metadata": {},
   "outputs": [],
   "source": [
    "def ozan_tufan(*args):\n",
    "    list1 = []\n",
    "    for i in args:\n",
    "        list1.append(i)\n",
    "    \n",
    "    list2 = []\n",
    "    for k in range(1,len(list1) + 1):\n",
    "        list2.append(str(k) + \". Week's Result:\")\n",
    "    \n",
    "    for i,j in zip(list2,list1):\n",
    "        print(i,j, \"Km\")\n",
    "        \n",
    "    print(\"\\nTotal Km: {} Km\".format(sum(list1)))\n",
    "    "
   ]
  },
  {
   "cell_type": "code",
   "execution_count": 2,
   "metadata": {},
   "outputs": [
    {
     "name": "stdout",
     "output_type": "stream",
     "text": [
      "1. Week's Result: 11 Km\n",
      "2. Week's Result: 23 Km\n",
      "3. Week's Result: 26 Km\n",
      "4. Week's Result: 27 Km\n",
      "\n",
      "Total Km: 87 Km\n"
     ]
    }
   ],
   "source": [
    "ozan_tufan(11,23,26,27)"
   ]
  },
  {
   "cell_type": "code",
   "execution_count": 50,
   "metadata": {},
   "outputs": [
    {
     "data": {
      "text/plain": [
       "13"
      ]
     },
     "execution_count": 50,
     "metadata": {},
     "output_type": "execute_result"
    }
   ],
   "source": [
    "from functools import reduce\n",
    "print(\"difference between first and second week\",reduce(lambda x,y : y-x ,[11,23]))"
   ]
  },
  {
   "cell_type": "code",
   "execution_count": null,
   "metadata": {},
   "outputs": [],
   "source": []
  }
 ],
 "metadata": {
  "kernelspec": {
   "display_name": "Python 3",
   "language": "python",
   "name": "python3"
  },
  "language_info": {
   "codemirror_mode": {
    "name": "ipython",
    "version": 3
   },
   "file_extension": ".py",
   "mimetype": "text/x-python",
   "name": "python",
   "nbconvert_exporter": "python",
   "pygments_lexer": "ipython3",
   "version": "3.8.3"
  }
 },
 "nbformat": 4,
 "nbformat_minor": 4
}

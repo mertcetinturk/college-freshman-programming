{
 "cells": [
  {
   "cell_type": "code",
   "execution_count": 13,
   "metadata": {},
   "outputs": [
    {
     "name": "stdout",
     "output_type": "stream",
     "text": [
      "Enter a Number: 37\n",
      "Divisors of the number 37: [1, 37]\n"
     ]
    }
   ],
   "source": [
    "list1 = []\n",
    "number = int(input(\"Enter a Number: \"))\n",
    "for i in range(1,number + 1):\n",
    "    if number %i == 0:\n",
    "        list1.append(i)\n",
    "        \n",
    "print(\"Divisors of the number {}:\".format(number),list1)"
   ]
  },
  {
   "cell_type": "code",
   "execution_count": null,
   "metadata": {},
   "outputs": [],
   "source": []
  }
 ],
 "metadata": {
  "kernelspec": {
   "display_name": "Python 3",
   "language": "python",
   "name": "python3"
  },
  "language_info": {
   "codemirror_mode": {
    "name": "ipython",
    "version": 3
   },
   "file_extension": ".py",
   "mimetype": "text/x-python",
   "name": "python",
   "nbconvert_exporter": "python",
   "pygments_lexer": "ipython3",
   "version": "3.8.3"
  }
 },
 "nbformat": 4,
 "nbformat_minor": 4
}

{
 "cells": [
  {
   "cell_type": "code",
   "execution_count": 1,
   "metadata": {},
   "outputs": [
    {
     "name": "stdout",
     "output_type": "stream",
     "text": [
      "What's your name? Mert\n",
      "And your name? Ege\n",
      "Mert, Do yo want to choose Rock, Paper or Scissors? asd\n",
      "Ege, Do you want to choose Rock, Paper or Scissors? asd\n"
     ]
    },
    {
     "data": {
      "text/plain": [
       "\"It's a Tie!\""
      ]
     },
     "execution_count": 1,
     "metadata": {},
     "output_type": "execute_result"
    }
   ],
   "source": [
    "user1 = input(\"What's your name? \")\n",
    "user2 = input(\"And your name? \")\n",
    "user1_answer = input(\"%s, Do yo want to choose Rock, Paper or Scissors? \" %user1)\n",
    "user2_answer = input(\"%s, Do you want to choose Rock, Paper or Scissors? \" %user2)\n",
    "\n",
    "def compare(u1, u2):\n",
    "    if (u1 == \"Rock\" and u2 == \"Rock\") or (u1 == \"Scissors\" and u2 == \"Scissors\") or (u1 == \"Paper\" and u2 == \"Paper\"):\n",
    "        return(\"It's a Tie!\")\n",
    "    elif u1 == 'Rock':\n",
    "        if u2 == 'Scissors':\n",
    "            return(\"Rock Wins!\")\n",
    "        else:\n",
    "            return(\"Paper Wins!\")\n",
    "    elif u1 == 'Scissors':\n",
    "        if u2 == 'Paper':\n",
    "            return(\"Scissors Wins!\")\n",
    "        else:\n",
    "            return(\"Rock Wins!\")\n",
    "    elif u1 == 'Paper':\n",
    "        if u2 == 'Rock':\n",
    "            return(\"Paper Wins!\")\n",
    "        else:\n",
    "            return(\"Scissors Wins!\")\n",
    "    else:\n",
    "        return(\"Invalid input! You have not entered Rock, Paper or Scissors, try again.\")\n",
    "        \n",
    "        \n",
    "compare(user1_answer, user2_answer)"
   ]
  },
  {
   "cell_type": "code",
   "execution_count": null,
   "metadata": {},
   "outputs": [],
   "source": []
  }
 ],
 "metadata": {
  "kernelspec": {
   "display_name": "Python 3",
   "language": "python",
   "name": "python3"
  },
  "language_info": {
   "codemirror_mode": {
    "name": "ipython",
    "version": 3
   },
   "file_extension": ".py",
   "mimetype": "text/x-python",
   "name": "python",
   "nbconvert_exporter": "python",
   "pygments_lexer": "ipython3",
   "version": "3.8.3"
  }
 },
 "nbformat": 4,
 "nbformat_minor": 4
}

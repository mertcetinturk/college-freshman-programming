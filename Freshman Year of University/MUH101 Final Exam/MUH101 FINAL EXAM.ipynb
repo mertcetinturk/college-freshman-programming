{
 "cells": [
  {
   "cell_type": "markdown",
   "metadata": {},
   "source": [
    "Date:18.01.2021\n",
    "                                    \n",
    "## MUH101 INTRODUCTION TO PROGRAMMING\n",
    "## FINAL TAKE-HOME EXAM"
   ]
  },
  {
   "cell_type": "raw",
   "metadata": {},
   "source": [
    "Please write your name and student id below:\n",
    "\n",
    "- NAME       : M. Mert   \n",
    "- SURNAME    : Çetintürk\n",
    "- STUDENT ID : 21967387"
   ]
  },
  {
   "cell_type": "markdown",
   "metadata": {},
   "source": [
    "### Exam Description"
   ]
  },
  {
   "cell_type": "markdown",
   "metadata": {},
   "source": [
    "- There are 5 questions (20 pts each).\n",
    "<br>\n",
    "- Read them carefully and write your answers, code and comments in the cells inserted below each question. You can add or remove cells if necessary. \n",
    "<br>\n",
    "- Please do not change the original .ipynb file, just give your answers and upload the same file to the evdekal platform like  you did  in your mid-term.\n",
    "- #### If I find out that you shared your own solutions with someone else, both you and the recipient of the solution will fail the exam. No kidding. Just use your own coding skills and please !!! do not share your document with anyone else. I will do my best while reading your exam. Trust me.\n",
    "<br>\n",
    "\n",
    "Please upload the file until January 20th - 23:59 pm\n",
    "\n",
    "- Good Luck..."
   ]
  },
  {
   "cell_type": "markdown",
   "metadata": {},
   "source": [
    "##  Q1)"
   ]
  },
  {
   "cell_type": "markdown",
   "metadata": {},
   "source": [
    "Create a bank account class that has four attributes:\n",
    "\n",
    "- owner                         \n",
    "- age\n",
    "- gender\n",
    "- balance                               (last six digits of your ID --- assume as a TL account) \n",
    "\n",
    "and three methods:\n",
    "\n",
    "- deposit\n",
    "- withdraw\n",
    "- check_balance\n",
    "\n",
    "#### Please fulfill the requirements below: \n",
    "\n",
    "- Please instantiate your class, make three deposits and two withdrawals and check the latest status of your balance after these operations.\n",
    "- Your withdrawals may not exceed the available balance. \n",
    "- The system should warn and not allow young people to open an account under the age of 21.\n",
    "- All women between the ages of 21 and 30 must receive a welcome bonus of 5000 TL after creating an account."
   ]
  },
  {
   "cell_type": "code",
   "execution_count": 2,
   "metadata": {
    "scrolled": false
   },
   "outputs": [
    {
     "name": "stdout",
     "output_type": "stream",
     "text": [
      "\n",
      "Please Enter Your Name: Mert Çetintürk\n",
      "\n",
      "Please Enter Your Age: 21\n",
      "\n",
      "Please Enter Your Gender: Male\n",
      "\n",
      "Please Enter Your Balance: 967387\n",
      "--------------------------------------------\n",
      " Account Transactions\n",
      "\n",
      "    1. Deposit\n",
      "\n",
      "    2. Withdraw\n",
      "\n",
      "    3. Check Balance\n",
      "\n",
      "Press \"*\" for terminating the operation.\n",
      "--------------------------------------------\n",
      "\n",
      "Please Enter an Operation: 3\n",
      "\n",
      "Your Balance 967387.0 TL\n",
      "--------------------------------------------\n",
      " Account Transactions\n",
      "\n",
      "    1. Deposit\n",
      "\n",
      "    2. Withdraw\n",
      "\n",
      "    3. Check Balance\n",
      "\n",
      "Press \"*\" for terminating the operation.\n",
      "--------------------------------------------\n",
      "\n",
      "Please Enter an Operation: 1\n",
      "\n",
      "Please Enter Amount: 500\n",
      "--------------------------------------------\n",
      " Account Transactions\n",
      "\n",
      "    1. Deposit\n",
      "\n",
      "    2. Withdraw\n",
      "\n",
      "    3. Check Balance\n",
      "\n",
      "Press \"*\" for terminating the operation.\n",
      "--------------------------------------------\n",
      "\n",
      "Please Enter an Operation: 1\n",
      "\n",
      "Please Enter Amount: 250\n",
      "--------------------------------------------\n",
      " Account Transactions\n",
      "\n",
      "    1. Deposit\n",
      "\n",
      "    2. Withdraw\n",
      "\n",
      "    3. Check Balance\n",
      "\n",
      "Press \"*\" for terminating the operation.\n",
      "--------------------------------------------\n",
      "\n",
      "Please Enter an Operation: 1\n",
      "\n",
      "Please Enter Amount: 100\n",
      "--------------------------------------------\n",
      " Account Transactions\n",
      "\n",
      "    1. Deposit\n",
      "\n",
      "    2. Withdraw\n",
      "\n",
      "    3. Check Balance\n",
      "\n",
      "Press \"*\" for terminating the operation.\n",
      "--------------------------------------------\n",
      "\n",
      "Please Enter an Operation: 3\n",
      "\n",
      "Your Balance 968237.0 TL\n",
      "--------------------------------------------\n",
      " Account Transactions\n",
      "\n",
      "    1. Deposit\n",
      "\n",
      "    2. Withdraw\n",
      "\n",
      "    3. Check Balance\n",
      "\n",
      "Press \"*\" for terminating the operation.\n",
      "--------------------------------------------\n",
      "\n",
      "Please Enter an Operation: 2\n",
      "\n",
      "Please Enter Amount: 968238\n",
      "\n",
      "--Sorry You Cannot Perform This Operation.--\n",
      "--------------------------------------------\n",
      " Account Transactions\n",
      "\n",
      "    1. Deposit\n",
      "\n",
      "    2. Withdraw\n",
      "\n",
      "    3. Check Balance\n",
      "\n",
      "Press \"*\" for terminating the operation.\n",
      "--------------------------------------------\n",
      "\n",
      "Please Enter an Operation: 2\n",
      "\n",
      "Please Enter Amount: 75000\n",
      "--------------------------------------------\n",
      " Account Transactions\n",
      "\n",
      "    1. Deposit\n",
      "\n",
      "    2. Withdraw\n",
      "\n",
      "    3. Check Balance\n",
      "\n",
      "Press \"*\" for terminating the operation.\n",
      "--------------------------------------------\n",
      "\n",
      "Please Enter an Operation: 3\n",
      "\n",
      "Your Balance 893237.0 TL\n",
      "--------------------------------------------\n",
      " Account Transactions\n",
      "\n",
      "    1. Deposit\n",
      "\n",
      "    2. Withdraw\n",
      "\n",
      "    3. Check Balance\n",
      "\n",
      "Press \"*\" for terminating the operation.\n",
      "--------------------------------------------\n",
      "\n",
      "Please Enter an Operation: *\n",
      "\n",
      "Process Terminates... Have a Nice Day.\n"
     ]
    }
   ],
   "source": [
    "# Your answer here\n",
    "class Bank_Account():\n",
    "    def __init__(self, owner, age, gender, balance):\n",
    "        self.owner = owner\n",
    "        self.age = age\n",
    "        self.gender = gender\n",
    "        self.balance = balance\n",
    "        \n",
    "    \n",
    "    def deposit(self, deposit):\n",
    "        self.balance += deposit\n",
    "                \n",
    "        \n",
    "    def withdraw(self, withdraw):\n",
    "        self.balance -= withdraw\n",
    "        \n",
    "        \n",
    "    def check_balance(self):\n",
    "        print(\"\\nYour Balance {} TL\".format(self.balance))\n",
    "       \n",
    "    \n",
    "owner = input(\"\\nPlease Enter Your Name: \")\n",
    "age = int(input(\"\\nPlease Enter Your Age: \"))\n",
    "gender = input(\"\\nPlease Enter Your Gender: \")\n",
    "balance = float(input(\"\\nPlease Enter Your Balance: \"))\n",
    "bank_account = Bank_Account(owner, age, gender, balance)\n",
    "\n",
    "if (gender == \"Female\") and (21 <= age <= 30):\n",
    "        print(\"\\nWelcome To Our Bank. We Add 5.000 TL Welcome Bonus In Your Account.\")\n",
    "        bank_account.deposit(5000)\n",
    "        \n",
    "\n",
    "while True:\n",
    "    \n",
    "    if age < 21:\n",
    "        print(\"\\nSorry You Cannot Perform This Operation.\")\n",
    "        break\n",
    "        \n",
    "    else:\n",
    "        print(\"\"\"--------------------------------------------\n",
    " Account Transactions\n",
    "\n",
    "    1. Deposit\n",
    "\n",
    "    2. Withdraw\n",
    "\n",
    "    3. Check Balance\n",
    "\n",
    "Press \"*\" for terminating the operation.\n",
    "--------------------------------------------\"\"\")\n",
    "        \n",
    "        operation = input(\"\\nPlease Enter an Operation: \")\n",
    "        \n",
    "        if operation == \"*\":\n",
    "            print(\"\\nProcess Terminates... Have a Nice Day.\")\n",
    "            break\n",
    "        \n",
    "        elif operation == \"1\":\n",
    "            deposit_amount = float(input(\"\\nPlease Enter Amount: \"))\n",
    "            bank_account.deposit(deposit_amount)\n",
    "        \n",
    "        elif operation == \"2\":\n",
    "            withdraw_amount = float(input(\"\\nPlease Enter Amount: \"))\n",
    "            \n",
    "            if withdraw_amount > bank_account.balance:\n",
    "                print(\"\\n--Sorry You Cannot Perform This Operation.--\")\n",
    "                continue\n",
    "            \n",
    "            else:\n",
    "                bank_account.withdraw(withdraw_amount)\n",
    "        \n",
    "        elif operation == \"3\":\n",
    "            bank_account.check_balance()"
   ]
  },
  {
   "cell_type": "code",
   "execution_count": null,
   "metadata": {},
   "outputs": [],
   "source": [
    "#Your answer here"
   ]
  },
  {
   "cell_type": "markdown",
   "metadata": {},
   "source": [
    "##################################################################################################################"
   ]
  },
  {
   "cell_type": "markdown",
   "metadata": {},
   "source": [
    "##  Q2)"
   ]
  },
  {
   "cell_type": "markdown",
   "metadata": {},
   "source": [
    "You are going to create a theater play booking program.\n",
    "\n",
    "This program will ask a user what a theater play they want to watch, and decides if they are ready to enjoy the play by its availability on the theater, the user’s age, and the number of tickets left.\n",
    "\n",
    "Steps to follow:\n",
    "\n",
    "- Create a variable called theater which is basically a dictionary.\n",
    "- Populate this dictionary with 10 pairs of keys and values. Each key will be the name of some theater play name (e.g., you can write the names from the list at http://ankaenstitusu.com/iz-birakmis-10-tiyatro-oyunu/#) and each value is a list of 2 values: the first is the age requirement for the play (7, 13 or 18), and the second is the number of tickets left in the theater for that play.\n",
    "\n",
    "- In the dictionary you can use dummy values for the number of tickets left.\n",
    "\n",
    "- Use while loop to run the program over and over again (check while True:).\n",
    "\n",
    "- Create another variable called \"choice\" that should store the user input (string) asking what theater play the user would like to watch.\n",
    "\n",
    "- Try to find a way of warning users to write names exactly as they are written in the dictionary (Check strip().title() command from the WEB).\n",
    "\n",
    "- if the name that the user gave as input is inside the dictionary as a key, the program will ask how old the user is. \n",
    "\n",
    "- If the age (integer) the user gave as input is greater than or equal to minimum age limit, the program will display “You bought one ticket. Enjoy the play!” to the screen and print the new number of tickets left for that play after you bought one.\n",
    "\n",
    "- If the age the user gave as input is greater than or equal to minimum age limit but there are no tickets left for that play display \"Sorry, we are sold out!\" to the screen.\n",
    "\n",
    "- If the age the user gave as input does not meet the age limit of the play print \"You are too young to see that play!\"\n",
    "\n",
    "- If the play name that the user gave as input is not inside the dictionary as a key then print out \"Sorry. We don't have that theater play...\"\n"
   ]
  },
  {
   "cell_type": "code",
   "execution_count": 2,
   "metadata": {},
   "outputs": [
    {
     "name": "stdout",
     "output_type": "stream",
     "text": [
      "Please Enter a Theater Name: keşanlı ali destanı\n",
      "\n",
      "What Is Your Age? -> 21\n",
      "\n",
      "You Bought One Ticket, Enjoy the Play!\n",
      "\n",
      "Remaining Ticket -> 90\n"
     ]
    }
   ],
   "source": [
    "#Your answer here\n",
    "while True:\n",
    "    theater = {\"Cibali Karakolu\" : [18,45],\n",
    "               \"Lüküs Hayat\" : [13,24], \n",
    "               \"Keşanlı Ali Destanı\" : [18,91], \n",
    "               \"Paydos\" : [15,87],\n",
    "               \"Damdaki Kemancı\" : [18,73],\n",
    "               \"Toros Canavarı\" : [15,66],\n",
    "               \"Küheylan\" : [18,0],\n",
    "               \"Bir Delinin Hatıra Defteri\" : [15,9],\n",
    "               \"Köşebaşı\" : [15,3],\n",
    "               \"Martı\" : [7,42]}\n",
    "    \n",
    "    choise = input(\"Please Enter a Theater Name: \").strip().title()\n",
    "    if choise in theater.keys():         #Here we check if the user input is in the dictionary keys.\n",
    "        age = int(input(\"\\nWhat Is Your Age? -> \"))\n",
    "            \n",
    "        if age >= theater[choise][0]:\n",
    "                \n",
    "            if theater[choise][1] > 0:\n",
    "                print(\"\\nYou Bought One Ticket, Enjoy the Play!\")\n",
    "                theater[choise][1] -= 1\n",
    "                print(\"\\nRemaining Ticket -> {}\".format(theater[choise][1]))\n",
    "                break\n",
    "                \n",
    "            else:\n",
    "                print(\"Sorry, We Are Sold Out!\")\n",
    "                break\n",
    "            \n",
    "        else:\n",
    "            print(\"You Are Too Young To See That Play!\\n\")\n",
    "            break\n",
    "        \n",
    "    else:\n",
    "        print(\"Sorry. We Don't Have That Theater Play...\\n\")\n",
    "        continue  #Here we give a warning when the user enters something invalid and we make it back to the beginning."
   ]
  },
  {
   "cell_type": "markdown",
   "metadata": {},
   "source": [
    "##  Q3)"
   ]
  },
  {
   "cell_type": "markdown",
   "metadata": {},
   "source": [
    "Ozan Tufan is a professional football player who plays an official football match every week. He wants to track how often the number of km he runs exceeds the previous game. This is called a progress game.\n",
    "<br>\n",
    "Create a function that takes in a list of km run every game and returns Ozan's total number of progress days."
   ]
  },
  {
   "cell_type": "code",
   "execution_count": 4,
   "metadata": {},
   "outputs": [
    {
     "name": "stdout",
     "output_type": "stream",
     "text": [
      "1. Week's Results: 11.8 Km\n",
      "2. Week's Results: 13.7 Km\n",
      "3. Week's Results: 12.2 Km\n",
      "4. Week's Results: 15.7 Km\n",
      "5. Week's Results: 18 Km\n",
      "\n",
      "Total Km: 71.4\n"
     ]
    }
   ],
   "source": [
    "#Your answer here\n",
    "def ozan_tufan(*args):   #The reason I use the \"*\" method here is for the user to enter as many values as they want.\n",
    "    list1 = []\n",
    "    for i in args:\n",
    "        list1.append(i)\n",
    "    \n",
    "    list2 = []\n",
    "    for k in range(1,len(list1) + 1):\n",
    "        list2.append(str(k) + \". Week's Results:\")   #Here I had to make the variable \"k\" a string, because integer and string cannot be added together.\n",
    "    \n",
    "    for i,j in zip(list2,list1):  #I use the zip function here, because this function is used to merge two separate lists. \n",
    "        print(i,j, \"Km\")          #This method felt more original and comfortable to me.\n",
    "        \n",
    "    print(\"\\nTotal Km:\",sum(list1))\n",
    "    \n",
    "ozan_tufan(11.8,13.7,12.2,15.7,18)"
   ]
  },
  {
   "cell_type": "markdown",
   "metadata": {},
   "source": [
    "##  Q4)"
   ]
  },
  {
   "cell_type": "markdown",
   "metadata": {},
   "source": [
    "Create a program that asks the user for a number and then prints out a list of all the divisors of that number. (If you don’t know what a divisor is, it is a number that divides evenly into another number. For example, 13 is a divisor of 26 because 26 / 13 has no remainder.)"
   ]
  },
  {
   "cell_type": "code",
   "execution_count": 3,
   "metadata": {
    "scrolled": true
   },
   "outputs": [
    {
     "name": "stdout",
     "output_type": "stream",
     "text": [
      "Enter a Number: 117\n",
      "Divisors of the number -> 117: [1, 3, 9, 13, 39, 117]\n"
     ]
    }
   ],
   "source": [
    "#Your answer here\n",
    "list1 = []\n",
    "number = int(input(\"Enter a Number: \"))\n",
    "for i in range(1,number + 1):\n",
    "    if number %i == 0:\n",
    "        list1.append(i)\n",
    "        \n",
    "print(\"Divisors of the number -> {}:\".format(number),list1)"
   ]
  },
  {
   "cell_type": "markdown",
   "metadata": {},
   "source": [
    "##  Q5)"
   ]
  },
  {
   "cell_type": "markdown",
   "metadata": {},
   "source": [
    "A friend gave you the python code for a game (Rock Paper Scissors) and asked you to make the code work by correcting the wrong parts.\n",
    "\n",
    "Remember the rules of the game:\n",
    "\n",
    "- Rock beats scissors\n",
    "- Scissors beats paper\n",
    "- Paper beats rock\n",
    "\n",
    "\n",
    "This is the code to fix.\n"
   ]
  },
  {
   "cell_type": "raw",
   "metadata": {},
   "source": [
    "*******************************************************************\n",
    "user1 = input(\"What's your name?\")\n",
    "user2 = input(\"And your name?\")\n",
    "user1_answer = input(\"%f, do yo want to choose rock, paper or scissors?\" % user1)\n",
    "user2_answer = int(\"%s, do you want to choose rock, paper or scissors?\" % user2)\n",
    "\n",
    "def compare(u1, u2):\n",
    "    if u1 == u2:\n",
    "        return(\"It's a tie!\")\n",
    "    elif u1 == 'rock':\n",
    "        else u2 == 'scissors':\n",
    "            return(\"Rock wins!\")\n",
    "        else:\n",
    "            return(\"Paper wins!\")\n",
    "    elif u1 == 'scissors':\n",
    "        if u2 == 'paper':\n",
    "            return(\"Scissors win!\")\n",
    "        else:\n",
    "            return(\"Rock wins!\")\n",
    "    elif u1 == 'paper':\n",
    "        if u2 == 'rock':\n",
    "            break(\"Paper wins!\")\n",
    "        else:\n",
    "            return(\"Scissors win!\")\n",
    "        else:\n",
    "        return(\"Invalid input! You have not entered rock, paper or  scissors, try again.\")\n",
    "\n",
    "print(user1_answer, user2_answer)\n",
    "*******************************************************************"
   ]
  },
  {
   "cell_type": "code",
   "execution_count": 7,
   "metadata": {},
   "outputs": [
    {
     "name": "stdout",
     "output_type": "stream",
     "text": [
      "What's your name? Martin\n",
      "And your name? Luke\n",
      "Martin, Do you want to choose Rock, Paper or Scissors? Rock\n",
      "Luke, Do you want to choose Rock, Paper or Scissors? Scissors\n"
     ]
    },
    {
     "data": {
      "text/plain": [
       "'Rock Wins!'"
      ]
     },
     "execution_count": 7,
     "metadata": {},
     "output_type": "execute_result"
    }
   ],
   "source": [
    "# Write the correct code here. \n",
    "user1 = input(\"What's your name? \")\n",
    "user2 = input(\"And your name? \")\n",
    "user1_answer = input(\"%s, Do you want to choose Rock, Paper or Scissors? \" %user1)\n",
    "user2_answer = input(\"%s, Do you want to choose Rock, Paper or Scissors? \" %user2)\n",
    "\n",
    "def compare(u1, u2):\n",
    "    if (u1 == \"Rock\" and u2 == \"Rock\") or (u1 == \"Scissors\" and u2 == \"Scissors\") or (u1 == \"Paper\" and u2 == \"Paper\"):\n",
    "        return(\"It's a Tie!\")\n",
    "    elif u1 == 'Rock':\n",
    "        if u2 == 'Scissors':\n",
    "            return(\"Rock Wins!\")\n",
    "        else:\n",
    "            return(\"Paper Wins!\")\n",
    "    elif u1 == 'Scissors':\n",
    "        if u2 == 'Paper':\n",
    "            return(\"Scissors Wins!\")\n",
    "        else:\n",
    "            return(\"Rock Wins!\")\n",
    "    elif u1 == 'Paper':\n",
    "        if u2 == 'Rock':\n",
    "            return(\"Paper Wins!\")\n",
    "        else:\n",
    "            return(\"Scissors Wins!\")\n",
    "    else:\n",
    "        return(\"Invalid input! You have not entered Rock, Paper or Scissors, try again.\")\n",
    "        \n",
    "        \n",
    "compare(user1_answer, user2_answer)"
   ]
  },
  {
   "cell_type": "markdown",
   "metadata": {},
   "source": [
    "List the errors or missing parts you corrected in the code. "
   ]
  },
  {
   "cell_type": "code",
   "execution_count": 6,
   "metadata": {
    "scrolled": true
   },
   "outputs": [],
   "source": [
    "#1) An error has been made in the code written for the \"input\" value requested from the second user.\n",
    "#While \"input\" should be written, \"int\" was written. \"int\" means integer.\n",
    "\n",
    "\n",
    "#2)At the bottom of the line of code we need to write a value inside the \"compare\" function. \n",
    "#However, instead of writing the values to the \"compare\" function, it is written to the \"print\" function.\n"
   ]
  }
 ],
 "metadata": {
  "kernelspec": {
   "display_name": "Python 3",
   "language": "python",
   "name": "python3"
  },
  "language_info": {
   "codemirror_mode": {
    "name": "ipython",
    "version": 3
   },
   "file_extension": ".py",
   "mimetype": "text/x-python",
   "name": "python",
   "nbconvert_exporter": "python",
   "pygments_lexer": "ipython3",
   "version": "3.8.3"
  }
 },
 "nbformat": 4,
 "nbformat_minor": 4
}

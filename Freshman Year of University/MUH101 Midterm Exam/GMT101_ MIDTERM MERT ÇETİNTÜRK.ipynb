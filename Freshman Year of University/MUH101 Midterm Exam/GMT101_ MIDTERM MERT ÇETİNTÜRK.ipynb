{
 "cells": [
  {
   "cell_type": "raw",
   "metadata": {},
   "source": [
    "Please fill the infos below\n",
    "\n",
    "Date: 23/11/2020\n",
    "Name: M.Mert\n",
    "Surname: Çetintürk\n",
    "Student ID: 21967387"
   ]
  },
  {
   "cell_type": "markdown",
   "metadata": {
    "id": "qj8R1wLK3qjA"
   },
   "source": [
    "## GMT101 - GEOMATICS / MIDTERM EXAM"
   ]
  },
  {
   "cell_type": "markdown",
   "metadata": {
    "id": "2csO7RAi3qjB"
   },
   "source": [
    "- You have 10 questions to answer. Please use your own coding skills to fulfill each task. \n",
    "- You can add docstrings in order to explain your codes. \n",
    "- Please upload the same (.ipynb) file including your answers to the \"evdekal\" system. No other formats will be accepted.\n",
    "- You have to upload your file until November 27th - 23:59 pm."
   ]
  },
  {
   "cell_type": "markdown",
   "metadata": {
    "id": "qeSXoWRJ3qjC"
   },
   "source": [
    "### **********************QUESTIONS**********************************"
   ]
  },
  {
   "cell_type": "markdown",
   "metadata": {
    "id": "6_qwXuqj3qjD"
   },
   "source": [
    "#### Q1) We have four numbers 1,2,3,4. We have to create combinations made by 3 digits (e.g., 123, 234, 423,...), where each combination must be unique and there can not be duplicates. (15pt)"
   ]
  },
  {
   "cell_type": "markdown",
   "metadata": {
    "id": "QwLDt9al3qjE"
   },
   "source": [
    "Task: what are the combinations we can get, taking in consideration the condition indicated above? "
   ]
  },
  {
   "cell_type": "code",
   "execution_count": 1,
   "metadata": {
    "id": "q90f4PAU3qjF"
   },
   "outputs": [
    {
     "name": "stdout",
     "output_type": "stream",
     "text": [
      "1 2 3\n",
      "1 2 4\n",
      "1 3 2\n",
      "1 3 4\n",
      "1 4 2\n",
      "1 4 3\n",
      "2 1 3\n",
      "2 1 4\n",
      "2 3 1\n",
      "2 3 4\n",
      "2 4 1\n",
      "2 4 3\n",
      "3 1 2\n",
      "3 1 4\n",
      "3 2 1\n",
      "3 2 4\n",
      "3 4 1\n",
      "3 4 2\n",
      "4 1 2\n",
      "4 1 3\n",
      "4 2 1\n",
      "4 2 3\n",
      "4 3 1\n",
      "4 3 2\n"
     ]
    }
   ],
   "source": [
    "## Your answer here\n",
    "def combination(x):\n",
    "    for i in range(len(x)):\n",
    "        for j in range(len(x)):\n",
    "            for k in range(len(x)):\n",
    "                if (i != j) and (j != k) and (i != k):\n",
    "                    print(x[i],x[j],x[k])\n",
    "    pass\n",
    "combination([1,2,3,4])"
   ]
  },
  {
   "cell_type": "code",
   "execution_count": null,
   "metadata": {
    "id": "j-nrFbTj3qjK"
   },
   "outputs": [],
   "source": [
    "###############################################################"
   ]
  },
  {
   "cell_type": "markdown",
   "metadata": {
    "id": "mjcbAlNo3qjL"
   },
   "source": [
    "#### Q2) Write a function that accepts three integers x,y,z from the user (i.e., use input command) and order the integers from the smallest to the largest. (10pt) "
   ]
  },
  {
   "cell_type": "code",
   "execution_count": 2,
   "metadata": {
    "id": "79L3k0Lg3qjM"
   },
   "outputs": [
    {
     "name": "stdout",
     "output_type": "stream",
     "text": [
      "Enter a Number: 49\n",
      "Enter Another Number: 991\n",
      "Enter Last Number: 5\n",
      "[5, 49, 991]\n"
     ]
    }
   ],
   "source": [
    "## Your answer here\n",
    "def sort_numbers(x,y,z):\n",
    "    list1 = [x,y,z]\n",
    "    list1.sort()\n",
    "    print(list1)\n",
    "    pass\n",
    "\n",
    "x = int(input(\"Enter a Number: \"))\n",
    "y = int(input(\"Enter Another Number: \"))\n",
    "z = int(input(\"Enter Last Number: \"))\n",
    "\n",
    "sort_numbers(x,y,z)"
   ]
  },
  {
   "cell_type": "code",
   "execution_count": null,
   "metadata": {
    "id": "2_NsYA5o3qjP"
   },
   "outputs": [],
   "source": [
    "###############################################################"
   ]
  },
  {
   "cell_type": "markdown",
   "metadata": {
    "id": "AkZsb5I03qjQ"
   },
   "source": [
    "#### Q3) Handle user input\n",
    "#### The aim of this question is to write a program to ask the user for two strings and concatenate them together, with a space between them and store them into a new variable called new_string. (10 pt)"
   ]
  },
  {
   "cell_type": "code",
   "execution_count": 3,
   "metadata": {
    "id": "LPm5bkQg3qjR"
   },
   "outputs": [
    {
     "name": "stdout",
     "output_type": "stream",
     "text": [
      "Write a String: Hello\n",
      "Write Another String: World\n"
     ]
    },
    {
     "data": {
      "text/plain": [
       "'Hello World'"
      ]
     },
     "execution_count": 3,
     "metadata": {},
     "output_type": "execute_result"
    }
   ],
   "source": [
    "## Your answer here\n",
    "string1 = input(\"Write a String: \")\n",
    "string2 = input(\"Write Another String: \")\n",
    "\n",
    "new_string = [string1,string2]\n",
    "\n",
    "\" \".join(new_string)"
   ]
  },
  {
   "cell_type": "code",
   "execution_count": null,
   "metadata": {
    "id": "IMcpQN203qjV"
   },
   "outputs": [],
   "source": [
    "###############################################################"
   ]
  },
  {
   "cell_type": "markdown",
   "metadata": {
    "id": "9-nKuGkQ3qjY"
   },
   "source": [
    "#### Q4) The aim of this task is to write a program to convert a distance in Kilometres into a distance in miles. (10 pt)\n",
    "\n",
    "  - Take input from the user for a given distance in Kilometres. This can be done using the input() function.\n",
    "  - Convert the value returned by the input() function from a string into an\n",
    "    integer using the int() function.\n",
    "  - Now convert this value into miles—this can be done by dividing the kilometres by 0.6214\n",
    "  - Print out a message telling the user what the kilometres are in miles."
   ]
  },
  {
   "cell_type": "code",
   "execution_count": 4,
   "metadata": {
    "id": "eD6AVBdc3qjZ"
   },
   "outputs": [
    {
     "name": "stdout",
     "output_type": "stream",
     "text": [
      "Enter Distence In Kiloeters: 100\n",
      "Your 100.0 Kilometer Is 62.13999999999999 Miles\n"
     ]
    }
   ],
   "source": [
    "## Your answer here\n",
    "kilometer = float(input(\"Enter Distence In Kiloeters: \"))\n",
    "mile = kilometer * 0.6214\n",
    "\n",
    "print(\"Your {} Kilometer Is {} Miles\".format(kilometer,mile))"
   ]
  },
  {
   "cell_type": "code",
   "execution_count": null,
   "metadata": {
    "id": "sGlcBKgw3qjd"
   },
   "outputs": [],
   "source": [
    "###############################################################"
   ]
  },
  {
   "cell_type": "markdown",
   "metadata": {
    "id": "BaYljn2Q3qjh"
   },
   "source": [
    "#### Q5) In this exercise you should return to the kilometres to miles converter you wrote in the last question. (15 pt)\n",
    "\n",
    "You will add several new tests to your program:\n",
    "\n",
    "- Modify your program such that it verify that the user has entered a positive distance (i.e. they cannot enter a negative number).\n",
    "- Now modify your program to verify that the input is a number; if it is not a number then do nothing; otherwise convert the distance to miles.\n",
    "\n",
    "- To check to see if a string contains only digits use the method isnumeric() for example '42'.isnumeric(); which returns True if the string only contains numbers. Note this method only works for positive integers; but this is sufficient for this question."
   ]
  },
  {
   "cell_type": "code",
   "execution_count": 5,
   "metadata": {
    "id": "LCxpNfrM3qji"
   },
   "outputs": [
    {
     "name": "stdout",
     "output_type": "stream",
     "text": [
      "Enter Distence In Kiloeters: abcd\n",
      "Enter Distence In Kiloeters: -100\n",
      "Enter Distence In Kiloeters: 100\n",
      "Your 100.0 Kilometer Is 62.13999999999999 Miles\n"
     ]
    }
   ],
   "source": [
    "## Your answer here\n",
    "while True:\n",
    "    kilometer = input(\"Enter Distence In Kiloeters: \")\n",
    "    \n",
    "    if kilometer.isnumeric() == True:\n",
    "        kilometer = float(kilometer)\n",
    "        \n",
    "        if kilometer > 0:\n",
    "            mile = kilometer * 0.6214\n",
    "            print(\"Your {} Kilometer Is {} Miles\".format(kilometer,mile))\n",
    "            break\n",
    "\n",
    "    \n",
    "    else:\n",
    "        continue"
   ]
  },
  {
   "cell_type": "code",
   "execution_count": null,
   "metadata": {
    "id": "yMAlGVCg3uFf"
   },
   "outputs": [],
   "source": [
    "###############################################################"
   ]
  },
  {
   "cell_type": "markdown",
   "metadata": {
    "id": "V8sOPO0S3uIj"
   },
   "source": [
    "#### Q6) \n",
    "\n",
    "#### a) Create a for  loop that iterates through all the numbers of \"your student id\" and prints out the numbers only greater than 4. (4 pt)\n",
    "\n",
    "\n",
    "For example just assume that my student id is 573592241. \\\n",
    " myid=[5, 7, 3, 5, 9, 2, 2, 4, 1] # You have to write your own id here. \n",
    "\n",
    "#### b) Create a for loop that iterates through all the items of the same list and prints out all the items but this time exit the loop when the item is equal to 5th (e.g., 9 in myid) item of your student id. (3 pt)\n",
    "\n",
    "#### c) Create a for loop that iterates through all the items of the same list and prints out all the items except 6th (e.g., 2 in myid) item of your student id. (3 pt)\n",
    "\n",
    "(note: e.g. means \"for instance\")"
   ]
  },
  {
   "cell_type": "code",
   "execution_count": 6,
   "metadata": {},
   "outputs": [
    {
     "name": "stdout",
     "output_type": "stream",
     "text": [
      "Enter Your Student ID: 21967387\n",
      "[9, 6, 7, 8, 7]\n"
     ]
    }
   ],
   "source": [
    "## Your answer here \n",
    "\n",
    "#For a\n",
    "\n",
    "student_id = input(\"Enter Your Student ID: \")\n",
    "list1 = []\n",
    "for i in student_id:\n",
    "    i = int(i)\n",
    "    if i > 4:\n",
    "        list1.append(i)\n",
    "print(list1)"
   ]
  },
  {
   "cell_type": "code",
   "execution_count": 7,
   "metadata": {},
   "outputs": [
    {
     "name": "stdout",
     "output_type": "stream",
     "text": [
      "Enter Your Student ID: 21967387\n",
      "['2', '1', '9', '6'] Exiting The Loop...\n"
     ]
    }
   ],
   "source": [
    "## Your answer here\n",
    "\n",
    "#For b\n",
    "\n",
    "student_id = input(\"Enter Your Student ID: \")\n",
    "list2 = []\n",
    "for i in student_id:\n",
    "    list2.append(i)\n",
    "    if i == student_id[3]:\n",
    "        break\n",
    "print(list2,\"Exiting The Loop...\")"
   ]
  },
  {
   "cell_type": "code",
   "execution_count": 8,
   "metadata": {},
   "outputs": [
    {
     "name": "stdout",
     "output_type": "stream",
     "text": [
      "Enter Your Student ID: 21967387\n",
      "['2', '1', '9', '6', '7', '8', '7']\n"
     ]
    }
   ],
   "source": [
    "## Your answer here\n",
    "\n",
    "#For c\n",
    "\n",
    "student_id = input(\"Enter Your Student ID: \")\n",
    "list3 = []\n",
    "for i in student_id:\n",
    "    list3.append(i)\n",
    "list3.pop(5)\n",
    "print(list3)"
   ]
  },
  {
   "cell_type": "code",
   "execution_count": null,
   "metadata": {},
   "outputs": [],
   "source": [
    "###############################################################3"
   ]
  },
  {
   "cell_type": "markdown",
   "metadata": {},
   "source": [
    "#### Q7) Please create one text file  \"fruits.txt\" and write the following fruits in order (one per each row). (10 pt)\n",
    "\n",
    " <br> pear </br>\n",
    " <br> apple </br>\n",
    " <br> orange </br>\n",
    " <br> mandarin </br>\n",
    " <br> watermelon </br>\n",
    " <br> pomegranate </br>\n",
    "\n",
    "Write some Python code that prints out the length of each string in the fruits.txt file. \n",
    "\n",
    "Expected output:\n",
    "\n",
    " 4 \\\n",
    " 5 \\\n",
    " 6 \\\n",
    " 8 \\\n",
    " 10 \\\n",
    " 11\n",
    "\n"
   ]
  },
  {
   "cell_type": "code",
   "execution_count": 9,
   "metadata": {},
   "outputs": [
    {
     "name": "stdout",
     "output_type": "stream",
     "text": [
      "pear\n",
      "apple\n",
      "orange\n",
      "mandarin\n",
      "watermelon\n",
      "pomegranate\n",
      "\n",
      "--------------------------\n",
      "\n",
      "4\n",
      "5\n",
      "6\n",
      "8\n",
      "10\n",
      "11\n"
     ]
    }
   ],
   "source": [
    "## Your answer here\n",
    "with open('fruits.txt','w') as x:\n",
    "    x.write(\"pear\\napple\\norange\\nmandarin\\nwatermelon\\npomegranate\\n\")\n",
    "    \n",
    "with open('fruits.txt','r') as x:\n",
    "    print(x.read())\n",
    "\n",
    "print(\"--------------------------\\n\")\n",
    "\n",
    "my_file = open('fruits.txt','r')\n",
    "stringlines = my_file.readlines()\n",
    "lengthlist = []\n",
    "for x in stringlines:\n",
    "    lengthlist.append(len(x)-1)\n",
    "for y in lengthlist:\n",
    "    print(y)"
   ]
  },
  {
   "cell_type": "code",
   "execution_count": null,
   "metadata": {},
   "outputs": [],
   "source": [
    "###############################################################3"
   ]
  },
  {
   "cell_type": "markdown",
   "metadata": {},
   "source": [
    "#### Q8) Write a Python program to create a dictionary of keys x, y, and z where each key has as value a list from 11-20, 21-30, and 31-40 respectively. Access the fifth value of each key from the dictionary. (10 pt)"
   ]
  },
  {
   "cell_type": "code",
   "execution_count": 10,
   "metadata": {},
   "outputs": [
    {
     "name": "stdout",
     "output_type": "stream",
     "text": [
      "x Values [11, 12, 13, 14, 15, 16, 17, 18, 19, 20]\n",
      "y Values [21, 22, 23, 24, 25, 26, 27, 28, 29, 30]\n",
      "z Values [31, 32, 33, 34, 35, 36, 37, 38, 39, 40]\n",
      "---------------------\n",
      "x's 5th Value 15\n",
      "y's 5th Value 25\n",
      "z's 5th Value 35\n"
     ]
    }
   ],
   "source": [
    "## Your answer here\n",
    "my_dict = {'x' : list(range(11,21)), 'y' : list(range(21,31)), 'z' : list(range(31,41))}\n",
    "for i,j in my_dict.items():\n",
    "    print(i,\"Values\",j)\n",
    "print(\"---------------------\")\n",
    "print(\"x's 5th Value\",my_dict['x'][4])\n",
    "print(\"y's 5th Value\",my_dict['y'][4])\n",
    "print(\"z's 5th Value\",my_dict['z'][4])"
   ]
  },
  {
   "cell_type": "code",
   "execution_count": null,
   "metadata": {},
   "outputs": [],
   "source": [
    "###############################################################3"
   ]
  },
  {
   "cell_type": "markdown",
   "metadata": {},
   "source": [
    "#### Q9) Write a Python program to square and cube every number in a given list of integers using Lambda. (5 pt)"
   ]
  },
  {
   "cell_type": "code",
   "execution_count": 11,
   "metadata": {},
   "outputs": [
    {
     "name": "stdout",
     "output_type": "stream",
     "text": [
      "For 1 = 1\n",
      "For 2 = 4\n",
      "For 3 = 9\n",
      "For 4 = 16\n",
      "For 5 = 25\n",
      "----------\n",
      "For 1 = 1\n",
      "For 2 = 8\n",
      "For 3 = 27\n",
      "For 4 = 64\n",
      "For 5 = 125\n"
     ]
    }
   ],
   "source": [
    "## Your answer here\n",
    "list1 = [1,2,3,4,5]\n",
    "for i in list1:\n",
    "    take_square = lambda x : x ** 2\n",
    "    print(\"For {} = {}\".format(i,take_square(i)))\n",
    "    \n",
    "print(\"----------\")\n",
    "\n",
    "for j in list1:\n",
    "    take_cube = lambda x : x ** 3\n",
    "    print(\"For {} = {}\".format(j,take_cube(j)))"
   ]
  },
  {
   "cell_type": "code",
   "execution_count": null,
   "metadata": {},
   "outputs": [],
   "source": [
    "###############################################################3"
   ]
  },
  {
   "cell_type": "markdown",
   "metadata": {},
   "source": [
    "#### Q10) Write a Python program to replace last value of tuples in a list. (5 pt)\n",
    "Sample list: [(10, 20, 40), (40, 50, 60), (70, 80, 90)] \\\n",
    "Expected Output: [(10, 20, 100), (40, 50, 100), (70, 80, 100)] "
   ]
  },
  {
   "cell_type": "code",
   "execution_count": 12,
   "metadata": {},
   "outputs": [
    {
     "name": "stdout",
     "output_type": "stream",
     "text": [
      "[(10, 20, 100), (40, 50, 100), (70, 80, 100)]\n"
     ]
    }
   ],
   "source": [
    "## Your answer here\n",
    "list1 = [(10, 20, 40), (40, 50, 60), (70, 80, 90)]\n",
    "print([t[:-1] + (100,) for t in list1])"
   ]
  },
  {
   "cell_type": "code",
   "execution_count": null,
   "metadata": {},
   "outputs": [],
   "source": []
  }
 ],
 "metadata": {
  "colab": {
   "collapsed_sections": [],
   "name": "GMT101: Mid-Term.ipynb",
   "provenance": []
  },
  "kernelspec": {
   "display_name": "Python 3",
   "language": "python",
   "name": "python3"
  },
  "language_info": {
   "codemirror_mode": {
    "name": "ipython",
    "version": 3
   },
   "file_extension": ".py",
   "mimetype": "text/x-python",
   "name": "python",
   "nbconvert_exporter": "python",
   "pygments_lexer": "ipython3",
   "version": "3.8.3"
  }
 },
 "nbformat": 4,
 "nbformat_minor": 1
}

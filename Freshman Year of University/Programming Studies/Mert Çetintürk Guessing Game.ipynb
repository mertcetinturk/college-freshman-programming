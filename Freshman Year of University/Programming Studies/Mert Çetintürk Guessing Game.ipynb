{
 "cells": [
  {
   "cell_type": "code",
   "execution_count": 1,
   "metadata": {},
   "outputs": [
    {
     "name": "stdout",
     "output_type": "stream",
     "text": [
      "Hello everyone! \n",
      "Let's play a game together.  This game's name is Guessing Game. \n",
      "This game's rules are; \n",
      "If your guess is less than 1 or 100 I'll say 'OUT OF BOUNDS' \n",
      "On your first turn if you guesses;\n",
      "-Closer to within 10 of the number, then I'll say 'WARM!',\n",
      "-Further than 10 away from the number, then I'll say 'COLD!' \n",
      "On all subsequent turns, if a guess is\n",
      "-Closer to the number than the previous guess, return I'll say 'WARMER!' \n",
      "-Farther from the number than the previous guess, return I'll say 'CALDER!' \n",
      "When you guess the equals the number, I'll tell you you guessed correctly and how many guesses it took!\n"
     ]
    }
   ],
   "source": [
    "print(\"Hello everyone!\",\"\\nLet's play a game together.\",\" This game's name is Guessing Game.\",\"\\nThis game's rules are; \\nIf your guess is less than 1 or 100 I'll say 'OUT OF BOUNDS'\",\"\\nOn your first turn if you guesses;\\n-Closer to within 10 of the number, then I'll say 'WARM!',\\n-Further than 10 away from the number, then I'll say 'COLD!'\",\"\\nOn all subsequent turns, if a guess is\\n-Closer to the number than the previous guess, return I'll say 'WARMER!' \\n-Farther from the number than the previous guess, return I'll say 'CALDER!'\",\"\\nWhen you guess the equals the number, I'll tell you you guessed correctly and how many guesses it took!\")"
   ]
  },
  {
   "cell_type": "code",
   "execution_count": null,
   "metadata": {},
   "outputs": [],
   "source": [
    "import random\n",
    "\n",
    "x = random.randint(1,100)\n",
    "\n",
    "guess = 0\n",
    "\n",
    "previous_guess=0\n",
    "guess_count=0\n",
    "\n",
    "while guess != x:\n",
    "\n",
    "    guess = int(input(\"Guess a number between 1 to 100: \"))\n",
    "    guess_count=guess_count + 1\n",
    "    if guess > 100 or guess < 1:\n",
    "        print(\"OUT OF BOUNDS!\")\n",
    "\n",
    "\n",
    "    else:\n",
    "        if previous_guess == 0:\n",
    "\n",
    "            if guess <= x + 10 and guess >= x - 10:\n",
    "\n",
    "                print(\"WARM!\")\n",
    "\n",
    "            else:\n",
    "                print(\"COLD\")\n",
    "\n",
    "            previous_guess = abs(x-guess)\n",
    "\n",
    "        else:\n",
    "\n",
    "            differ = abs(x-guess)\n",
    "\n",
    "            if differ < previous_guess:\n",
    "                print(\"WARMER!\")\n",
    "            else:\n",
    "                print(\"COLDER!\")\n",
    "            previous_guess=differ\n",
    "\n",
    "\n",
    "print(\"Congratulations! It tooks you %d tries. \" % (guess_count))"
   ]
  },
  {
   "cell_type": "code",
   "execution_count": null,
   "metadata": {},
   "outputs": [],
   "source": []
  }
 ],
 "metadata": {
  "kernelspec": {
   "display_name": "Python 3",
   "language": "python",
   "name": "python3"
  },
  "language_info": {
   "codemirror_mode": {
    "name": "ipython",
    "version": 3
   },
   "file_extension": ".py",
   "mimetype": "text/x-python",
   "name": "python",
   "nbconvert_exporter": "python",
   "pygments_lexer": "ipython3",
   "version": "3.8.3"
  }
 },
 "nbformat": 4,
 "nbformat_minor": 4
}

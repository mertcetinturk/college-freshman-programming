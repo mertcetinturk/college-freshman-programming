{
 "cells": [
  {
   "cell_type": "markdown",
   "metadata": {
    "id": "UC_ccJMDSW4G"
   },
   "source": [
    "_____\n",
    "**Use <code>for</code>, .split(), and <code>if</code> to create a Statement that will print out words that start with 's':**"
   ]
  },
  {
   "cell_type": "code",
   "execution_count": 1,
   "metadata": {
    "id": "KNsOteeK5CNU"
   },
   "outputs": [
    {
     "name": "stdout",
     "output_type": "stream",
     "text": [
      "start\n",
      "split\n",
      "statement.\n"
     ]
    }
   ],
   "source": [
    "line = \"Hi everyone! Today we're going to start a split statement.\"\n",
    "line.split()\n",
    "for word in line.split():\n",
    "    if word[0] == \"s\" or word[0] == \"S\":\n",
    "        print(word)"
   ]
  },
  {
   "cell_type": "code",
   "execution_count": 2,
   "metadata": {
    "colab": {
     "base_uri": "https://localhost:8080/"
    },
    "executionInfo": {
     "elapsed": 1779,
     "status": "ok",
     "timestamp": 1604750274730,
     "user": {
      "displayName": "tolga gurcuoglu",
      "photoUrl": "https://lh3.googleusercontent.com/a-/AOh14Gi2uClNvrF0b1MSLs1z7PPdmC0t2QTdENR09LuT=s64",
      "userId": "15787945288414630560"
     },
     "user_tz": -180
    },
    "id": "Kk_MtpOpSW4H",
    "outputId": "cbe94683-187e-4831-c442-b4d6eeecde4a"
   },
   "outputs": [
    {
     "name": "stdout",
     "output_type": "stream",
     "text": [
      "start\n",
      "s\n",
      "sentence\n"
     ]
    }
   ],
   "source": [
    "st = 'Print only the words that start with s in this sentence'\n",
    "st.split()\n",
    "for word in st.split():\n",
    "    if(word[0]==\"s\"):\n",
    "        print(word)"
   ]
  },
  {
   "cell_type": "markdown",
   "metadata": {
    "id": "1d3ITGcXSW4L"
   },
   "source": [
    "\n",
    "\n",
    "$a^2$"
   ]
  },
  {
   "cell_type": "markdown",
   "metadata": {
    "id": "jyQGvXHpSW4O"
   },
   "source": [
    "______\n",
    "**Use range() to print all the even numbers from 0 to 10.**"
   ]
  },
  {
   "cell_type": "code",
   "execution_count": 3,
   "metadata": {
    "colab": {
     "base_uri": "https://localhost:8080/"
    },
    "executionInfo": {
     "elapsed": 1196,
     "status": "ok",
     "timestamp": 1604742890851,
     "user": {
      "displayName": "Asya Arslan",
      "photoUrl": "",
      "userId": "11697386964699941180"
     },
     "user_tz": -180
    },
    "id": "z2yenNOHSW4O",
    "outputId": "7b4d4e77-eed6-40d9-9c49-97e09332f7d7"
   },
   "outputs": [
    {
     "name": "stdout",
     "output_type": "stream",
     "text": [
      "0\n",
      "2\n",
      "4\n",
      "6\n",
      "8\n"
     ]
    }
   ],
   "source": [
    "for i in range(0,10):\n",
    "    if i %2 == 0:\n",
    "        print(i)"
   ]
  },
  {
   "cell_type": "markdown",
   "metadata": {
    "id": "DODVLoCrSW4R"
   },
   "source": [
    "___\n",
    "**Use a List Comprehension to create a list of all numbers between 1 and 50 that are divisible by 3.**"
   ]
  },
  {
   "cell_type": "code",
   "execution_count": 2,
   "metadata": {
    "colab": {
     "base_uri": "https://localhost:8080/"
    },
    "executionInfo": {
     "elapsed": 944,
     "status": "ok",
     "timestamp": 1604742900687,
     "user": {
      "displayName": "Asya Arslan",
      "photoUrl": "",
      "userId": "11697386964699941180"
     },
     "user_tz": -180
    },
    "id": "fkaY8lGzSW4S",
    "outputId": "49deb44d-d6da-4316-88f5-bede39f64d20"
   },
   "outputs": [
    {
     "name": "stdout",
     "output_type": "stream",
     "text": [
      "3\n",
      "6\n",
      "9\n",
      "12\n",
      "15\n",
      "18\n",
      "21\n",
      "24\n",
      "27\n",
      "30\n",
      "33\n",
      "36\n",
      "39\n",
      "42\n",
      "45\n",
      "48\n"
     ]
    }
   ],
   "source": [
    "for m in range(1,50):\n",
    "    if m % 3 == 0:\n",
    "        print(m)"
   ]
  },
  {
   "cell_type": "code",
   "execution_count": 5,
   "metadata": {},
   "outputs": [
    {
     "name": "stdout",
     "output_type": "stream",
     "text": [
      "[3, 6, 9, 12, 15, 18, 21, 24, 27, 30, 33, 36, 39, 42, 45, 48]\n"
     ]
    }
   ],
   "source": [
    "list_1 = [i for i in range(1,51) if i % 3 ==0]\n",
    "print(list_1)"
   ]
  },
  {
   "cell_type": "markdown",
   "metadata": {
    "collapsed": true,
    "id": "luJhxQ_QSW4F"
   },
   "source": [
    "8# Statements Assessment Quiz\n",
    "Let's test your knowledge!"
   ]
  },
  {
   "cell_type": "markdown",
   "metadata": {
    "id": "AT6tLagRSW4U"
   },
   "source": [
    "_____\n",
    "**Go through the string below and if the length of a word is even print \"even!\"**"
   ]
  },
  {
   "cell_type": "code",
   "execution_count": 4,
   "metadata": {
    "colab": {
     "base_uri": "https://localhost:8080/"
    },
    "executionInfo": {
     "elapsed": 660,
     "status": "ok",
     "timestamp": 1604750458215,
     "user": {
      "displayName": "tolga gurcuoglu",
      "photoUrl": "https://lh3.googleusercontent.com/a-/AOh14Gi2uClNvrF0b1MSLs1z7PPdmC0t2QTdENR09LuT=s64",
      "userId": "15787945288414630560"
     },
     "user_tz": -180
    },
    "id": "4K6RQSe5SW4X",
    "outputId": "31699ef1-0d01-4882-830c-650883193d36"
   },
   "outputs": [
    {
     "name": "stdout",
     "output_type": "stream",
     "text": [
      "Even!\n",
      "through\n",
      "the\n",
      "Even!\n",
      "below\n",
      "and\n",
      "Even!\n",
      "the\n",
      "Even!\n",
      "Even!\n",
      "a\n",
      "Even!\n",
      "Even!\n",
      "Even!\n",
      "print\n",
      "'even!'\n"
     ]
    }
   ],
   "source": [
    "i = \"Go through the string below and if the length of a word is even print 'even!'\"\n",
    "new_list = i.split()\n",
    "new_list\n",
    "for word in new_list:\n",
    "    if len(word) % 2 == 0:\n",
    "        print(\"Even!\")\n",
    "    else:\n",
    "        print(word)"
   ]
  },
  {
   "cell_type": "markdown",
   "metadata": {
    "id": "qM3xgbN4SW4Z"
   },
   "source": [
    "____\n",
    "**Write a program that prints the integers from 1 to 100. But for multiples of three print \"Fizz\" instead of the number, and for the multiples of five print \"Buzz\". For numbers which are multiples of both three and five print \"FizzBuzz\".**"
   ]
  },
  {
   "cell_type": "code",
   "execution_count": 7,
   "metadata": {
    "id": "0W_8K31nSW4a"
   },
   "outputs": [
    {
     "name": "stdout",
     "output_type": "stream",
     "text": [
      "1\n",
      "2\n",
      "Fizz\n",
      "4\n",
      "Buzz\n",
      "Fizz\n",
      "7\n",
      "8\n",
      "Fizz\n",
      "Buzz\n",
      "11\n",
      "Fizz\n",
      "13\n",
      "14\n",
      "FizzBuzz\n",
      "16\n",
      "17\n",
      "Fizz\n",
      "19\n",
      "Buzz\n",
      "Fizz\n",
      "22\n",
      "23\n",
      "Fizz\n",
      "Buzz\n",
      "26\n",
      "Fizz\n",
      "28\n",
      "29\n",
      "FizzBuzz\n",
      "31\n",
      "32\n",
      "Fizz\n",
      "34\n",
      "Buzz\n",
      "Fizz\n",
      "37\n",
      "38\n",
      "Fizz\n",
      "Buzz\n",
      "41\n",
      "Fizz\n",
      "43\n",
      "44\n",
      "FizzBuzz\n",
      "46\n",
      "47\n",
      "Fizz\n",
      "49\n",
      "Buzz\n",
      "Fizz\n",
      "52\n",
      "53\n",
      "Fizz\n",
      "Buzz\n",
      "56\n",
      "Fizz\n",
      "58\n",
      "59\n",
      "FizzBuzz\n",
      "61\n",
      "62\n",
      "Fizz\n",
      "64\n",
      "Buzz\n",
      "Fizz\n",
      "67\n",
      "68\n",
      "Fizz\n",
      "Buzz\n",
      "71\n",
      "Fizz\n",
      "73\n",
      "74\n",
      "FizzBuzz\n",
      "76\n",
      "77\n",
      "Fizz\n",
      "79\n",
      "Buzz\n",
      "Fizz\n",
      "82\n",
      "83\n",
      "Fizz\n",
      "Buzz\n",
      "86\n",
      "Fizz\n",
      "88\n",
      "89\n",
      "FizzBuzz\n",
      "91\n",
      "92\n",
      "Fizz\n",
      "94\n",
      "Buzz\n",
      "Fizz\n",
      "97\n",
      "98\n",
      "Fizz\n",
      "Buzz\n"
     ]
    }
   ],
   "source": [
    "#Code in this cell\n",
    "for x in range(1,101):\n",
    "    if x % 3 == 0 and x % 5 == 0:\n",
    "        print(\"FizzBuzz\")\n",
    "    elif x % 3 == 0:\n",
    "        print(\"Fizz\")\n",
    "    elif x % 5 == 0:\n",
    "        print(\"Buzz\")\n",
    "    else:\n",
    "        print(x)"
   ]
  },
  {
   "cell_type": "markdown",
   "metadata": {
    "id": "Xl8OuVAuSW4c"
   },
   "source": [
    "____\n",
    "**Use List Comprehension to create a list of the first letters of every word in the string below:**"
   ]
  },
  {
   "cell_type": "code",
   "execution_count": 5,
   "metadata": {
    "colab": {
     "base_uri": "https://localhost:8080/"
    },
    "executionInfo": {
     "elapsed": 821,
     "status": "ok",
     "timestamp": 1604653333344,
     "user": {
      "displayName": "Asya Arslan",
      "photoUrl": "",
      "userId": "11697386964699941180"
     },
     "user_tz": -180
    },
    "id": "0HsDOju6SW4c",
    "outputId": "9f388496-cfa2-43e2-e68f-14cf3481d63d"
   },
   "outputs": [
    {
     "name": "stdout",
     "output_type": "stream",
     "text": [
      "C\n",
      "a\n",
      "l\n",
      "o\n",
      "t\n",
      "f\n",
      "l\n",
      "o\n",
      "e\n",
      "w\n",
      "i\n",
      "t\n",
      "s\n"
     ]
    }
   ],
   "source": [
    "st = \"Create a list of the first letters of every word in this string\"\n",
    "st.split()\n",
    "for word in st.split():\n",
    "    print(word[0])"
   ]
  },
  {
   "cell_type": "code",
   "execution_count": 6,
   "metadata": {},
   "outputs": [
    {
     "name": "stdout",
     "output_type": "stream",
     "text": [
      "I\n",
      "c\n",
      "a\n",
      "l\n",
      "f\n",
      "t\n",
      "l\n"
     ]
    }
   ],
   "source": [
    "line = \"I created a list for this line\"\n",
    "line.split()\n",
    "for word in line.split():\n",
    "    print(word[0])"
   ]
  },
  {
   "cell_type": "markdown",
   "metadata": {
    "id": "aiZuDggzSW4h"
   },
   "source": [
    "### Great Job!"
   ]
  }
 ],
 "metadata": {
  "accelerator": "GPU",
  "colab": {
   "collapsed_sections": [],
   "name": "Statements Assessment Quiz.ipynb",
   "provenance": []
  },
  "kernelspec": {
   "display_name": "Python 3",
   "language": "python",
   "name": "python3"
  },
  "language_info": {
   "codemirror_mode": {
    "name": "ipython",
    "version": 3
   },
   "file_extension": ".py",
   "mimetype": "text/x-python",
   "name": "python",
   "nbconvert_exporter": "python",
   "pygments_lexer": "ipython3",
   "version": "3.8.3"
  }
 },
 "nbformat": 4,
 "nbformat_minor": 1
}
